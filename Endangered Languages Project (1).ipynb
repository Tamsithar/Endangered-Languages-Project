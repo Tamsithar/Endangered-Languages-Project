{
 "cells": [
  {
   "cell_type": "markdown",
   "id": "50e16e7a",
   "metadata": {},
   "source": [
    "# Hello World"
   ]
  },
  {
   "cell_type": "code",
   "execution_count": 1,
   "id": "58afe6cb",
   "metadata": {},
   "outputs": [
    {
     "name": "stdout",
     "output_type": "stream",
     "text": [
      "Hello World\n"
     ]
    }
   ],
   "source": [
    "print(\"Hello World\")"
   ]
  },
  {
   "cell_type": "markdown",
   "id": "b6a9ce19",
   "metadata": {},
   "source": [
    "# Getting Dataset"
   ]
  },
  {
   "cell_type": "code",
   "execution_count": 43,
   "id": "b89a143c",
   "metadata": {},
   "outputs": [],
   "source": [
    "import pandas as pd\n",
    "data = pd.read_csv(\"data.csv\")"
   ]
  },
  {
   "cell_type": "code",
   "execution_count": 3,
   "id": "8ac7fb37",
   "metadata": {},
   "outputs": [
    {
     "data": {
      "text/html": [
       "<div>\n",
       "<style scoped>\n",
       "    .dataframe tbody tr th:only-of-type {\n",
       "        vertical-align: middle;\n",
       "    }\n",
       "\n",
       "    .dataframe tbody tr th {\n",
       "        vertical-align: top;\n",
       "    }\n",
       "\n",
       "    .dataframe thead th {\n",
       "        text-align: right;\n",
       "    }\n",
       "</style>\n",
       "<table border=\"1\" class=\"dataframe\">\n",
       "  <thead>\n",
       "    <tr style=\"text-align: right;\">\n",
       "      <th></th>\n",
       "      <th>ID</th>\n",
       "      <th>Name in English</th>\n",
       "      <th>Name in French</th>\n",
       "      <th>Name in Spanish</th>\n",
       "      <th>Countries</th>\n",
       "      <th>Country codes alpha 3</th>\n",
       "      <th>ISO639-3 codes</th>\n",
       "      <th>Degree of endangerment</th>\n",
       "      <th>Alternate names</th>\n",
       "      <th>Name in the language</th>\n",
       "      <th>Number of speakers</th>\n",
       "      <th>Sources</th>\n",
       "      <th>Latitude</th>\n",
       "      <th>Longitude</th>\n",
       "      <th>Description of the location</th>\n",
       "    </tr>\n",
       "  </thead>\n",
       "  <tbody>\n",
       "    <tr>\n",
       "      <th>0</th>\n",
       "      <td>1022</td>\n",
       "      <td>South Italian</td>\n",
       "      <td>italien du sud</td>\n",
       "      <td>napolitano-calabrés</td>\n",
       "      <td>Italy</td>\n",
       "      <td>ITA</td>\n",
       "      <td>nap</td>\n",
       "      <td>Vulnerable</td>\n",
       "      <td>Neapolitan; Neapolitan-Calabrese; неаполитанск...</td>\n",
       "      <td>NaN</td>\n",
       "      <td>7500000.0</td>\n",
       "      <td>NaN</td>\n",
       "      <td>40.9798</td>\n",
       "      <td>15.2490</td>\n",
       "      <td>Campania, Lucania (Basilicata), Abruzzi (Abruz...</td>\n",
       "    </tr>\n",
       "    <tr>\n",
       "      <th>1</th>\n",
       "      <td>1023</td>\n",
       "      <td>Sicilian</td>\n",
       "      <td>sicilien</td>\n",
       "      <td>siciliano</td>\n",
       "      <td>Italy</td>\n",
       "      <td>ITA</td>\n",
       "      <td>scn</td>\n",
       "      <td>Vulnerable</td>\n",
       "      <td>NaN</td>\n",
       "      <td>NaN</td>\n",
       "      <td>5000000.0</td>\n",
       "      <td>NaN</td>\n",
       "      <td>37.4399</td>\n",
       "      <td>14.5019</td>\n",
       "      <td>Sicily (Sicilia), southern and central Calabri...</td>\n",
       "    </tr>\n",
       "    <tr>\n",
       "      <th>2</th>\n",
       "      <td>383</td>\n",
       "      <td>Low Saxon</td>\n",
       "      <td>bas-saxon</td>\n",
       "      <td>bajo sajón</td>\n",
       "      <td>Germany, Denmark, Netherlands, Poland, Russian...</td>\n",
       "      <td>DEU, DNK, NLD, POL, RUS</td>\n",
       "      <td>act, drt, frs, gos, nds, sdz, stl, twd, vel, wep</td>\n",
       "      <td>Vulnerable</td>\n",
       "      <td>Low German, Niedersächsisch, Nedersaksisch, Ni...</td>\n",
       "      <td>Neddersassisch</td>\n",
       "      <td>4800000.0</td>\n",
       "      <td>NaN</td>\n",
       "      <td>53.4029</td>\n",
       "      <td>10.3601</td>\n",
       "      <td>northern Germany, the north-eastern part of th...</td>\n",
       "    </tr>\n",
       "    <tr>\n",
       "      <th>3</th>\n",
       "      <td>335</td>\n",
       "      <td>Belarusian</td>\n",
       "      <td>biélorusse</td>\n",
       "      <td>bielorruso</td>\n",
       "      <td>Belarus, Latvia, Lithuania, Poland, Russian Fe...</td>\n",
       "      <td>BRB, LVA, LTU, POL, RUS, UKR</td>\n",
       "      <td>bel</td>\n",
       "      <td>Vulnerable</td>\n",
       "      <td>NaN</td>\n",
       "      <td>NaN</td>\n",
       "      <td>4000000.0</td>\n",
       "      <td>Hienadź Cychun: Weißrussisch. — Lexikon der Sp...</td>\n",
       "      <td>53.9560</td>\n",
       "      <td>27.5756</td>\n",
       "      <td>Belarus except the Polesian-speaking south-wes...</td>\n",
       "    </tr>\n",
       "    <tr>\n",
       "      <th>4</th>\n",
       "      <td>382</td>\n",
       "      <td>Lombard</td>\n",
       "      <td>lombard</td>\n",
       "      <td>lombardo</td>\n",
       "      <td>Italy, Switzerland</td>\n",
       "      <td>ITA, CHE</td>\n",
       "      <td>lmo</td>\n",
       "      <td>Definitely endangered</td>\n",
       "      <td>NaN</td>\n",
       "      <td>NaN</td>\n",
       "      <td>3500000.0</td>\n",
       "      <td>NaN</td>\n",
       "      <td>45.7215</td>\n",
       "      <td>9.3273</td>\n",
       "      <td>the region of Lombardy (except the southernmos...</td>\n",
       "    </tr>\n",
       "  </tbody>\n",
       "</table>\n",
       "</div>"
      ],
      "text/plain": [
       "     ID Name in English  Name in French      Name in Spanish  \\\n",
       "0  1022   South Italian  italien du sud  napolitano-calabrés   \n",
       "1  1023        Sicilian        sicilien            siciliano   \n",
       "2   383       Low Saxon       bas-saxon           bajo sajón   \n",
       "3   335      Belarusian      biélorusse           bielorruso   \n",
       "4   382         Lombard         lombard             lombardo   \n",
       "\n",
       "                                           Countries  \\\n",
       "0                                              Italy   \n",
       "1                                              Italy   \n",
       "2  Germany, Denmark, Netherlands, Poland, Russian...   \n",
       "3  Belarus, Latvia, Lithuania, Poland, Russian Fe...   \n",
       "4                                 Italy, Switzerland   \n",
       "\n",
       "          Country codes alpha 3  \\\n",
       "0                           ITA   \n",
       "1                           ITA   \n",
       "2       DEU, DNK, NLD, POL, RUS   \n",
       "3  BRB, LVA, LTU, POL, RUS, UKR   \n",
       "4                      ITA, CHE   \n",
       "\n",
       "                                     ISO639-3 codes Degree of endangerment  \\\n",
       "0                                               nap             Vulnerable   \n",
       "1                                               scn             Vulnerable   \n",
       "2  act, drt, frs, gos, nds, sdz, stl, twd, vel, wep             Vulnerable   \n",
       "3                                               bel             Vulnerable   \n",
       "4                                               lmo  Definitely endangered   \n",
       "\n",
       "                                     Alternate names Name in the language  \\\n",
       "0  Neapolitan; Neapolitan-Calabrese; неаполитанск...                  NaN   \n",
       "1                                                NaN                  NaN   \n",
       "2  Low German, Niedersächsisch, Nedersaksisch, Ni...       Neddersassisch   \n",
       "3                                                NaN                  NaN   \n",
       "4                                                NaN                  NaN   \n",
       "\n",
       "   Number of speakers                                            Sources  \\\n",
       "0           7500000.0                                                NaN   \n",
       "1           5000000.0                                                NaN   \n",
       "2           4800000.0                                                NaN   \n",
       "3           4000000.0  Hienadź Cychun: Weißrussisch. — Lexikon der Sp...   \n",
       "4           3500000.0                                                NaN   \n",
       "\n",
       "   Latitude  Longitude                        Description of the location  \n",
       "0   40.9798    15.2490  Campania, Lucania (Basilicata), Abruzzi (Abruz...  \n",
       "1   37.4399    14.5019  Sicily (Sicilia), southern and central Calabri...  \n",
       "2   53.4029    10.3601  northern Germany, the north-eastern part of th...  \n",
       "3   53.9560    27.5756  Belarus except the Polesian-speaking south-wes...  \n",
       "4   45.7215     9.3273  the region of Lombardy (except the southernmos...  "
      ]
     },
     "execution_count": 3,
     "metadata": {},
     "output_type": "execute_result"
    }
   ],
   "source": [
    "data.head()"
   ]
  },
  {
   "cell_type": "code",
   "execution_count": 4,
   "id": "a64d6146",
   "metadata": {
    "scrolled": true
   },
   "outputs": [
    {
     "data": {
      "text/html": [
       "<div>\n",
       "<style scoped>\n",
       "    .dataframe tbody tr th:only-of-type {\n",
       "        vertical-align: middle;\n",
       "    }\n",
       "\n",
       "    .dataframe tbody tr th {\n",
       "        vertical-align: top;\n",
       "    }\n",
       "\n",
       "    .dataframe thead th {\n",
       "        text-align: right;\n",
       "    }\n",
       "</style>\n",
       "<table border=\"1\" class=\"dataframe\">\n",
       "  <thead>\n",
       "    <tr style=\"text-align: right;\">\n",
       "      <th></th>\n",
       "      <th>ID</th>\n",
       "      <th>Name in English</th>\n",
       "      <th>Name in French</th>\n",
       "      <th>Name in Spanish</th>\n",
       "      <th>Countries</th>\n",
       "      <th>Country codes alpha 3</th>\n",
       "      <th>ISO639-3 codes</th>\n",
       "      <th>Degree of endangerment</th>\n",
       "      <th>Alternate names</th>\n",
       "      <th>Name in the language</th>\n",
       "      <th>Number of speakers</th>\n",
       "      <th>Sources</th>\n",
       "      <th>Latitude</th>\n",
       "      <th>Longitude</th>\n",
       "      <th>Description of the location</th>\n",
       "    </tr>\n",
       "  </thead>\n",
       "  <tbody>\n",
       "    <tr>\n",
       "      <th>2717</th>\n",
       "      <td>1972</td>\n",
       "      <td>Yonaguni</td>\n",
       "      <td>yonaguni</td>\n",
       "      <td>yonaguni</td>\n",
       "      <td>Japan</td>\n",
       "      <td>JPN</td>\n",
       "      <td>yoi</td>\n",
       "      <td>Severely endangered</td>\n",
       "      <td>NaN</td>\n",
       "      <td>NaN</td>\n",
       "      <td>NaN</td>\n",
       "      <td>Yukio Uemura: The Ryukyuan language. Endangere...</td>\n",
       "      <td>24.4580</td>\n",
       "      <td>122.9802</td>\n",
       "      <td>Yonaguni Island</td>\n",
       "    </tr>\n",
       "    <tr>\n",
       "      <th>2718</th>\n",
       "      <td>2018</td>\n",
       "      <td>Yucuna</td>\n",
       "      <td>yucuna</td>\n",
       "      <td>yucuna</td>\n",
       "      <td>Colombia</td>\n",
       "      <td>COL</td>\n",
       "      <td>ycn</td>\n",
       "      <td>Definitely endangered</td>\n",
       "      <td>NaN</td>\n",
       "      <td>NaN</td>\n",
       "      <td>NaN</td>\n",
       "      <td>NaN</td>\n",
       "      <td>-1.2633</td>\n",
       "      <td>-70.6640</td>\n",
       "      <td>NaN</td>\n",
       "    </tr>\n",
       "    <tr>\n",
       "      <th>2719</th>\n",
       "      <td>2015</td>\n",
       "      <td>Yurutí (Colombia)</td>\n",
       "      <td>yurutí (Colombie)</td>\n",
       "      <td>yurutí (Colombia)</td>\n",
       "      <td>Colombia</td>\n",
       "      <td>COL</td>\n",
       "      <td>yui</td>\n",
       "      <td>Definitely endangered</td>\n",
       "      <td>NaN</td>\n",
       "      <td>NaN</td>\n",
       "      <td>NaN</td>\n",
       "      <td>NaN</td>\n",
       "      <td>1.1370</td>\n",
       "      <td>-70.2136</td>\n",
       "      <td>NaN</td>\n",
       "    </tr>\n",
       "    <tr>\n",
       "      <th>2720</th>\n",
       "      <td>2716</td>\n",
       "      <td>Zangskari</td>\n",
       "      <td>zangskari</td>\n",
       "      <td>zangskari</td>\n",
       "      <td>India, Pakistan</td>\n",
       "      <td>IND, PAK</td>\n",
       "      <td>zau</td>\n",
       "      <td>Definitely endangered</td>\n",
       "      <td>Zangs-dkar, Z’angkar</td>\n",
       "      <td>NaN</td>\n",
       "      <td>NaN</td>\n",
       "      <td>NaN</td>\n",
       "      <td>34.0833</td>\n",
       "      <td>76.8500</td>\n",
       "      <td>NaN</td>\n",
       "    </tr>\n",
       "    <tr>\n",
       "      <th>2721</th>\n",
       "      <td>2177</td>\n",
       "      <td>Zidgali</td>\n",
       "      <td>zidgali</td>\n",
       "      <td>zidgali</td>\n",
       "      <td>Oman</td>\n",
       "      <td>OMN</td>\n",
       "      <td>NaN</td>\n",
       "      <td>Critically endangered</td>\n",
       "      <td>Zidjali, Zadjali</td>\n",
       "      <td>NaN</td>\n",
       "      <td>NaN</td>\n",
       "      <td>No authoritative source found yet; information...</td>\n",
       "      <td>23.4027</td>\n",
       "      <td>58.0957</td>\n",
       "      <td>Capital area of Muscat</td>\n",
       "    </tr>\n",
       "  </tbody>\n",
       "</table>\n",
       "</div>"
      ],
      "text/plain": [
       "        ID    Name in English     Name in French    Name in Spanish  \\\n",
       "2717  1972           Yonaguni           yonaguni           yonaguni   \n",
       "2718  2018             Yucuna             yucuna             yucuna   \n",
       "2719  2015  Yurutí (Colombia)  yurutí (Colombie)  yurutí (Colombia)   \n",
       "2720  2716          Zangskari          zangskari          zangskari   \n",
       "2721  2177            Zidgali            zidgali            zidgali   \n",
       "\n",
       "            Countries Country codes alpha 3 ISO639-3 codes  \\\n",
       "2717            Japan                   JPN            yoi   \n",
       "2718         Colombia                   COL            ycn   \n",
       "2719         Colombia                   COL            yui   \n",
       "2720  India, Pakistan              IND, PAK            zau   \n",
       "2721             Oman                   OMN            NaN   \n",
       "\n",
       "     Degree of endangerment       Alternate names Name in the language  \\\n",
       "2717    Severely endangered                   NaN                  NaN   \n",
       "2718  Definitely endangered                   NaN                  NaN   \n",
       "2719  Definitely endangered                   NaN                  NaN   \n",
       "2720  Definitely endangered  Zangs-dkar, Z’angkar                  NaN   \n",
       "2721  Critically endangered      Zidjali, Zadjali                  NaN   \n",
       "\n",
       "      Number of speakers                                            Sources  \\\n",
       "2717                 NaN  Yukio Uemura: The Ryukyuan language. Endangere...   \n",
       "2718                 NaN                                                NaN   \n",
       "2719                 NaN                                                NaN   \n",
       "2720                 NaN                                                NaN   \n",
       "2721                 NaN  No authoritative source found yet; information...   \n",
       "\n",
       "      Latitude  Longitude Description of the location  \n",
       "2717   24.4580   122.9802             Yonaguni Island  \n",
       "2718   -1.2633   -70.6640                         NaN  \n",
       "2719    1.1370   -70.2136                         NaN  \n",
       "2720   34.0833    76.8500                         NaN  \n",
       "2721   23.4027    58.0957      Capital area of Muscat  "
      ]
     },
     "execution_count": 4,
     "metadata": {},
     "output_type": "execute_result"
    }
   ],
   "source": [
    "data.tail()"
   ]
  },
  {
   "cell_type": "code",
   "execution_count": 5,
   "id": "4db573b0",
   "metadata": {},
   "outputs": [],
   "source": [
    "Rdata = data.drop(['Name in French','Name in Spanish','ISO639-3 codes','Sources','Alternate names','Name in the language','Latitude','Longitude','Description of the location'], axis ='columns')"
   ]
  },
  {
   "cell_type": "code",
   "execution_count": 6,
   "id": "9293e2e9",
   "metadata": {},
   "outputs": [
    {
     "data": {
      "text/html": [
       "<div>\n",
       "<style scoped>\n",
       "    .dataframe tbody tr th:only-of-type {\n",
       "        vertical-align: middle;\n",
       "    }\n",
       "\n",
       "    .dataframe tbody tr th {\n",
       "        vertical-align: top;\n",
       "    }\n",
       "\n",
       "    .dataframe thead th {\n",
       "        text-align: right;\n",
       "    }\n",
       "</style>\n",
       "<table border=\"1\" class=\"dataframe\">\n",
       "  <thead>\n",
       "    <tr style=\"text-align: right;\">\n",
       "      <th></th>\n",
       "      <th>ID</th>\n",
       "      <th>Name in English</th>\n",
       "      <th>Countries</th>\n",
       "      <th>Country codes alpha 3</th>\n",
       "      <th>Degree of endangerment</th>\n",
       "      <th>Number of speakers</th>\n",
       "    </tr>\n",
       "  </thead>\n",
       "  <tbody>\n",
       "    <tr>\n",
       "      <th>0</th>\n",
       "      <td>1022</td>\n",
       "      <td>South Italian</td>\n",
       "      <td>Italy</td>\n",
       "      <td>ITA</td>\n",
       "      <td>Vulnerable</td>\n",
       "      <td>7500000.0</td>\n",
       "    </tr>\n",
       "    <tr>\n",
       "      <th>1</th>\n",
       "      <td>1023</td>\n",
       "      <td>Sicilian</td>\n",
       "      <td>Italy</td>\n",
       "      <td>ITA</td>\n",
       "      <td>Vulnerable</td>\n",
       "      <td>5000000.0</td>\n",
       "    </tr>\n",
       "    <tr>\n",
       "      <th>2</th>\n",
       "      <td>383</td>\n",
       "      <td>Low Saxon</td>\n",
       "      <td>Germany, Denmark, Netherlands, Poland, Russian...</td>\n",
       "      <td>DEU, DNK, NLD, POL, RUS</td>\n",
       "      <td>Vulnerable</td>\n",
       "      <td>4800000.0</td>\n",
       "    </tr>\n",
       "    <tr>\n",
       "      <th>3</th>\n",
       "      <td>335</td>\n",
       "      <td>Belarusian</td>\n",
       "      <td>Belarus, Latvia, Lithuania, Poland, Russian Fe...</td>\n",
       "      <td>BRB, LVA, LTU, POL, RUS, UKR</td>\n",
       "      <td>Vulnerable</td>\n",
       "      <td>4000000.0</td>\n",
       "    </tr>\n",
       "    <tr>\n",
       "      <th>4</th>\n",
       "      <td>382</td>\n",
       "      <td>Lombard</td>\n",
       "      <td>Italy, Switzerland</td>\n",
       "      <td>ITA, CHE</td>\n",
       "      <td>Definitely endangered</td>\n",
       "      <td>3500000.0</td>\n",
       "    </tr>\n",
       "  </tbody>\n",
       "</table>\n",
       "</div>"
      ],
      "text/plain": [
       "     ID Name in English                                          Countries  \\\n",
       "0  1022   South Italian                                              Italy   \n",
       "1  1023        Sicilian                                              Italy   \n",
       "2   383       Low Saxon  Germany, Denmark, Netherlands, Poland, Russian...   \n",
       "3   335      Belarusian  Belarus, Latvia, Lithuania, Poland, Russian Fe...   \n",
       "4   382         Lombard                                 Italy, Switzerland   \n",
       "\n",
       "          Country codes alpha 3 Degree of endangerment  Number of speakers  \n",
       "0                           ITA             Vulnerable           7500000.0  \n",
       "1                           ITA             Vulnerable           5000000.0  \n",
       "2       DEU, DNK, NLD, POL, RUS             Vulnerable           4800000.0  \n",
       "3  BRB, LVA, LTU, POL, RUS, UKR             Vulnerable           4000000.0  \n",
       "4                      ITA, CHE  Definitely endangered           3500000.0  "
      ]
     },
     "execution_count": 6,
     "metadata": {},
     "output_type": "execute_result"
    }
   ],
   "source": [
    "Rdata.head()"
   ]
  },
  {
   "cell_type": "code",
   "execution_count": 7,
   "id": "bfcc2d39",
   "metadata": {},
   "outputs": [
    {
     "data": {
      "text/html": [
       "<div>\n",
       "<style scoped>\n",
       "    .dataframe tbody tr th:only-of-type {\n",
       "        vertical-align: middle;\n",
       "    }\n",
       "\n",
       "    .dataframe tbody tr th {\n",
       "        vertical-align: top;\n",
       "    }\n",
       "\n",
       "    .dataframe thead th {\n",
       "        text-align: right;\n",
       "    }\n",
       "</style>\n",
       "<table border=\"1\" class=\"dataframe\">\n",
       "  <thead>\n",
       "    <tr style=\"text-align: right;\">\n",
       "      <th></th>\n",
       "      <th>ID</th>\n",
       "      <th>Name in English</th>\n",
       "      <th>Countries</th>\n",
       "      <th>Country codes alpha 3</th>\n",
       "      <th>Degree of endangerment</th>\n",
       "      <th>Number of speakers</th>\n",
       "    </tr>\n",
       "  </thead>\n",
       "  <tbody>\n",
       "    <tr>\n",
       "      <th>2717</th>\n",
       "      <td>1972</td>\n",
       "      <td>Yonaguni</td>\n",
       "      <td>Japan</td>\n",
       "      <td>JPN</td>\n",
       "      <td>Severely endangered</td>\n",
       "      <td>NaN</td>\n",
       "    </tr>\n",
       "    <tr>\n",
       "      <th>2718</th>\n",
       "      <td>2018</td>\n",
       "      <td>Yucuna</td>\n",
       "      <td>Colombia</td>\n",
       "      <td>COL</td>\n",
       "      <td>Definitely endangered</td>\n",
       "      <td>NaN</td>\n",
       "    </tr>\n",
       "    <tr>\n",
       "      <th>2719</th>\n",
       "      <td>2015</td>\n",
       "      <td>Yurutí (Colombia)</td>\n",
       "      <td>Colombia</td>\n",
       "      <td>COL</td>\n",
       "      <td>Definitely endangered</td>\n",
       "      <td>NaN</td>\n",
       "    </tr>\n",
       "    <tr>\n",
       "      <th>2720</th>\n",
       "      <td>2716</td>\n",
       "      <td>Zangskari</td>\n",
       "      <td>India, Pakistan</td>\n",
       "      <td>IND, PAK</td>\n",
       "      <td>Definitely endangered</td>\n",
       "      <td>NaN</td>\n",
       "    </tr>\n",
       "    <tr>\n",
       "      <th>2721</th>\n",
       "      <td>2177</td>\n",
       "      <td>Zidgali</td>\n",
       "      <td>Oman</td>\n",
       "      <td>OMN</td>\n",
       "      <td>Critically endangered</td>\n",
       "      <td>NaN</td>\n",
       "    </tr>\n",
       "  </tbody>\n",
       "</table>\n",
       "</div>"
      ],
      "text/plain": [
       "        ID    Name in English        Countries Country codes alpha 3  \\\n",
       "2717  1972           Yonaguni            Japan                   JPN   \n",
       "2718  2018             Yucuna         Colombia                   COL   \n",
       "2719  2015  Yurutí (Colombia)         Colombia                   COL   \n",
       "2720  2716          Zangskari  India, Pakistan              IND, PAK   \n",
       "2721  2177            Zidgali             Oman                   OMN   \n",
       "\n",
       "     Degree of endangerment  Number of speakers  \n",
       "2717    Severely endangered                 NaN  \n",
       "2718  Definitely endangered                 NaN  \n",
       "2719  Definitely endangered                 NaN  \n",
       "2720  Definitely endangered                 NaN  \n",
       "2721  Critically endangered                 NaN  "
      ]
     },
     "execution_count": 7,
     "metadata": {},
     "output_type": "execute_result"
    }
   ],
   "source": [
    "Rdata.tail()"
   ]
  },
  {
   "cell_type": "code",
   "execution_count": 8,
   "id": "ae93bdd0",
   "metadata": {},
   "outputs": [
    {
     "name": "stdout",
     "output_type": "stream",
     "text": [
      "<class 'pandas.core.frame.DataFrame'>\n",
      "RangeIndex: 2722 entries, 0 to 2721\n",
      "Data columns (total 6 columns):\n",
      " #   Column                  Non-Null Count  Dtype  \n",
      "---  ------                  --------------  -----  \n",
      " 0   ID                      2722 non-null   int64  \n",
      " 1   Name in English         2722 non-null   object \n",
      " 2   Countries               2721 non-null   object \n",
      " 3   Country codes alpha 3   2721 non-null   object \n",
      " 4   Degree of endangerment  2722 non-null   object \n",
      " 5   Number of speakers      2539 non-null   float64\n",
      "dtypes: float64(1), int64(1), object(4)\n",
      "memory usage: 127.7+ KB\n"
     ]
    }
   ],
   "source": [
    "Rdata.info()"
   ]
  },
  {
   "cell_type": "code",
   "execution_count": 14,
   "id": "00dbf70d",
   "metadata": {},
   "outputs": [
    {
     "data": {
      "text/html": [
       "<div>\n",
       "<style scoped>\n",
       "    .dataframe tbody tr th:only-of-type {\n",
       "        vertical-align: middle;\n",
       "    }\n",
       "\n",
       "    .dataframe tbody tr th {\n",
       "        vertical-align: top;\n",
       "    }\n",
       "\n",
       "    .dataframe thead th {\n",
       "        text-align: right;\n",
       "    }\n",
       "</style>\n",
       "<table border=\"1\" class=\"dataframe\">\n",
       "  <thead>\n",
       "    <tr style=\"text-align: right;\">\n",
       "      <th></th>\n",
       "      <th>ID</th>\n",
       "      <th>Name in English</th>\n",
       "      <th>Countries</th>\n",
       "      <th>Country codes alpha 3</th>\n",
       "      <th>Degree of endangerment</th>\n",
       "      <th>Number of speakers</th>\n",
       "      <th>Critically endangered</th>\n",
       "      <th>Definitely endangered</th>\n",
       "      <th>Extinct</th>\n",
       "      <th>Severely endangered</th>\n",
       "      <th>Vulnerable</th>\n",
       "    </tr>\n",
       "  </thead>\n",
       "  <tbody>\n",
       "    <tr>\n",
       "      <th>0</th>\n",
       "      <td>1022</td>\n",
       "      <td>South Italian</td>\n",
       "      <td>Italy</td>\n",
       "      <td>ITA</td>\n",
       "      <td>Vulnerable</td>\n",
       "      <td>7500000.0</td>\n",
       "      <td>0</td>\n",
       "      <td>0</td>\n",
       "      <td>0</td>\n",
       "      <td>0</td>\n",
       "      <td>1</td>\n",
       "    </tr>\n",
       "    <tr>\n",
       "      <th>1</th>\n",
       "      <td>1023</td>\n",
       "      <td>Sicilian</td>\n",
       "      <td>Italy</td>\n",
       "      <td>ITA</td>\n",
       "      <td>Vulnerable</td>\n",
       "      <td>5000000.0</td>\n",
       "      <td>0</td>\n",
       "      <td>0</td>\n",
       "      <td>0</td>\n",
       "      <td>0</td>\n",
       "      <td>1</td>\n",
       "    </tr>\n",
       "    <tr>\n",
       "      <th>2</th>\n",
       "      <td>383</td>\n",
       "      <td>Low Saxon</td>\n",
       "      <td>Germany, Denmark, Netherlands, Poland, Russian...</td>\n",
       "      <td>DEU, DNK, NLD, POL, RUS</td>\n",
       "      <td>Vulnerable</td>\n",
       "      <td>4800000.0</td>\n",
       "      <td>0</td>\n",
       "      <td>0</td>\n",
       "      <td>0</td>\n",
       "      <td>0</td>\n",
       "      <td>1</td>\n",
       "    </tr>\n",
       "    <tr>\n",
       "      <th>3</th>\n",
       "      <td>335</td>\n",
       "      <td>Belarusian</td>\n",
       "      <td>Belarus, Latvia, Lithuania, Poland, Russian Fe...</td>\n",
       "      <td>BRB, LVA, LTU, POL, RUS, UKR</td>\n",
       "      <td>Vulnerable</td>\n",
       "      <td>4000000.0</td>\n",
       "      <td>0</td>\n",
       "      <td>0</td>\n",
       "      <td>0</td>\n",
       "      <td>0</td>\n",
       "      <td>1</td>\n",
       "    </tr>\n",
       "    <tr>\n",
       "      <th>4</th>\n",
       "      <td>382</td>\n",
       "      <td>Lombard</td>\n",
       "      <td>Italy, Switzerland</td>\n",
       "      <td>ITA, CHE</td>\n",
       "      <td>Definitely endangered</td>\n",
       "      <td>3500000.0</td>\n",
       "      <td>0</td>\n",
       "      <td>1</td>\n",
       "      <td>0</td>\n",
       "      <td>0</td>\n",
       "      <td>0</td>\n",
       "    </tr>\n",
       "  </tbody>\n",
       "</table>\n",
       "</div>"
      ],
      "text/plain": [
       "     ID Name in English                                          Countries  \\\n",
       "0  1022   South Italian                                              Italy   \n",
       "1  1023        Sicilian                                              Italy   \n",
       "2   383       Low Saxon  Germany, Denmark, Netherlands, Poland, Russian...   \n",
       "3   335      Belarusian  Belarus, Latvia, Lithuania, Poland, Russian Fe...   \n",
       "4   382         Lombard                                 Italy, Switzerland   \n",
       "\n",
       "          Country codes alpha 3 Degree of endangerment  Number of speakers  \\\n",
       "0                           ITA             Vulnerable           7500000.0   \n",
       "1                           ITA             Vulnerable           5000000.0   \n",
       "2       DEU, DNK, NLD, POL, RUS             Vulnerable           4800000.0   \n",
       "3  BRB, LVA, LTU, POL, RUS, UKR             Vulnerable           4000000.0   \n",
       "4                      ITA, CHE  Definitely endangered           3500000.0   \n",
       "\n",
       "   Critically endangered  Definitely endangered  Extinct  Severely endangered  \\\n",
       "0                      0                      0        0                    0   \n",
       "1                      0                      0        0                    0   \n",
       "2                      0                      0        0                    0   \n",
       "3                      0                      0        0                    0   \n",
       "4                      0                      1        0                    0   \n",
       "\n",
       "   Vulnerable  \n",
       "0           1  \n",
       "1           1  \n",
       "2           1  \n",
       "3           1  \n",
       "4           0  "
      ]
     },
     "execution_count": 14,
     "metadata": {},
     "output_type": "execute_result"
    }
   ],
   "source": [
    "Dm = pd.get_dummies(Rdata[\"Degree of endangerment\"])\n",
    "Fdata = pd.concat([Rdata, Dm], axis='columns')\n",
    "Fdata.head()"
   ]
  },
  {
   "cell_type": "markdown",
   "id": "7f945608",
   "metadata": {},
   "source": [
    "# Basic Data Visualization"
   ]
  },
  {
   "cell_type": "code",
   "execution_count": 17,
   "id": "ab534da0",
   "metadata": {},
   "outputs": [
    {
     "data": {
      "text/plain": [
       "Definitely endangered    680\n",
       "Vulnerable               628\n",
       "Critically endangered    607\n",
       "Severely endangered      554\n",
       "Extinct                  253\n",
       "Name: Degree of endangerment, dtype: int64"
      ]
     },
     "execution_count": 17,
     "metadata": {},
     "output_type": "execute_result"
    }
   ],
   "source": [
    "Rdata[\"Degree of endangerment\"].value_counts()"
   ]
  },
  {
   "cell_type": "code",
   "execution_count": 18,
   "id": "515a41ad",
   "metadata": {},
   "outputs": [
    {
     "name": "stdout",
     "output_type": "stream",
     "text": [
      "<class 'pandas.core.frame.DataFrame'>\n",
      "RangeIndex: 2722 entries, 0 to 2721\n",
      "Data columns (total 11 columns):\n",
      " #   Column                  Non-Null Count  Dtype  \n",
      "---  ------                  --------------  -----  \n",
      " 0   ID                      2722 non-null   int64  \n",
      " 1   Name in English         2722 non-null   object \n",
      " 2   Countries               2721 non-null   object \n",
      " 3   Country codes alpha 3   2721 non-null   object \n",
      " 4   Degree of endangerment  2722 non-null   object \n",
      " 5   Number of speakers      2539 non-null   float64\n",
      " 6   Critically endangered   2722 non-null   uint8  \n",
      " 7   Definitely endangered   2722 non-null   uint8  \n",
      " 8   Extinct                 2722 non-null   uint8  \n",
      " 9   Severely endangered     2722 non-null   uint8  \n",
      " 10  Vulnerable              2722 non-null   uint8  \n",
      "dtypes: float64(1), int64(1), object(4), uint8(5)\n",
      "memory usage: 141.0+ KB\n"
     ]
    }
   ],
   "source": [
    "Fdata.info()"
   ]
  },
  {
   "cell_type": "code",
   "execution_count": 24,
   "id": "c4fed08c",
   "metadata": {},
   "outputs": [
    {
     "data": {
      "text/plain": [
       "Index(['ID', 'Name in English', 'Countries', 'Country codes alpha 3',\n",
       "       'Degree of endangerment', 'Number of speakers', 'Critically endangered',\n",
       "       'Definitely endangered', 'Extinct', 'Severely endangered',\n",
       "       'Vulnerable'],\n",
       "      dtype='object')"
      ]
     },
     "execution_count": 24,
     "metadata": {},
     "output_type": "execute_result"
    }
   ],
   "source": [
    "Fdata.columns"
   ]
  },
  {
   "cell_type": "code",
   "execution_count": 49,
   "id": "0093671d",
   "metadata": {},
   "outputs": [
    {
     "data": {
      "text/plain": [
       "(0       0\n",
       " 1       0\n",
       " 2       0\n",
       " 3       0\n",
       " 4       0\n",
       "        ..\n",
       " 2717    0\n",
       " 2718    0\n",
       " 2719    0\n",
       " 2720    0\n",
       " 2721    1\n",
       " Name: Critically endangered, Length: 2722, dtype: uint8,\n",
       " ['Definitely endangered'],\n",
       " ['Extinct'],\n",
       " ['Severely endangered'],\n",
       " ['Vulnerable'])"
      ]
     },
     "execution_count": 49,
     "metadata": {},
     "output_type": "execute_result"
    }
   ],
   "source": [
    "Fdata['Critically endangered'],['Definitely endangered'], ['Extinct'], ['Severely endangered'],['Vulnerable']"
   ]
  },
  {
   "cell_type": "code",
   "execution_count": 51,
   "id": "4b775cdd",
   "metadata": {},
   "outputs": [
    {
     "ename": "NameError",
     "evalue": "name 'plt' is not defined",
     "output_type": "error",
     "traceback": [
      "\u001b[1;31m---------------------------------------------------------------------------\u001b[0m",
      "\u001b[1;31mNameError\u001b[0m                                 Traceback (most recent call last)",
      "\u001b[1;32m<ipython-input-51-3a35385f557f>\u001b[0m in \u001b[0;36m<module>\u001b[1;34m\u001b[0m\n\u001b[0;32m      3\u001b[0m \u001b[0my\u001b[0m \u001b[1;33m=\u001b[0m \u001b[0mRdata\u001b[0m\u001b[1;33m[\u001b[0m\u001b[1;34m'Number of speakers'\u001b[0m\u001b[1;33m]\u001b[0m\u001b[1;33m\u001b[0m\u001b[1;33m\u001b[0m\u001b[0m\n\u001b[0;32m      4\u001b[0m \u001b[0my\u001b[0m\u001b[1;33m\u001b[0m\u001b[1;33m\u001b[0m\u001b[0m\n\u001b[1;32m----> 5\u001b[1;33m \u001b[0mplt\u001b[0m\u001b[1;33m.\u001b[0m\u001b[0mRdata\u001b[0m\u001b[1;33m.\u001b[0m\u001b[0mbar\u001b[0m\u001b[1;33m(\u001b[0m\u001b[0mx\u001b[0m\u001b[1;33m,\u001b[0m\u001b[0my\u001b[0m\u001b[1;33m)\u001b[0m\u001b[1;33m\u001b[0m\u001b[1;33m\u001b[0m\u001b[0m\n\u001b[0m\u001b[0;32m      6\u001b[0m \u001b[0mplt\u001b[0m\u001b[1;33m.\u001b[0m\u001b[0mshow\u001b[0m\u001b[1;33m(\u001b[0m\u001b[1;33m)\u001b[0m\u001b[1;33m\u001b[0m\u001b[1;33m\u001b[0m\u001b[0m\n\u001b[0;32m      7\u001b[0m \u001b[1;31m#plt.plot(ft[\"Degree of endangerment\"])\u001b[0m\u001b[1;33m\u001b[0m\u001b[1;33m\u001b[0m\u001b[1;33m\u001b[0m\u001b[0m\n",
      "\u001b[1;31mNameError\u001b[0m: name 'plt' is not defined"
     ]
    }
   ],
   "source": [
    "x = Fdata['Degree of endangerment']\n",
    "x\n",
    "y = Fdata['Number of speakers']\n",
    "y\n",
    "plt.Rdata.bar(x,y)\n",
    "plt.show()\n",
    "#plt.plot(ft[\"Degree of endangerment\"])"
   ]
  },
  {
   "cell_type": "markdown",
   "id": "9f3de129",
   "metadata": {},
   "source": [
    "# African Languages"
   ]
  },
  {
   "cell_type": "code",
   "execution_count": 29,
   "id": "91ca0395",
   "metadata": {},
   "outputs": [
    {
     "data": {
      "text/plain": [
       "Index(['ID', 'Name in English', 'Countries', 'Country codes alpha 3',\n",
       "       'Degree of endangerment', 'Number of speakers', 'Critically endangered',\n",
       "       'Definitely endangered', 'Extinct', 'Severely endangered',\n",
       "       'Vulnerable'],\n",
       "      dtype='object')"
      ]
     },
     "execution_count": 29,
     "metadata": {},
     "output_type": "execute_result"
    }
   ],
   "source": [
    "Fdata.columns"
   ]
  },
  {
   "cell_type": "code",
   "execution_count": 30,
   "id": "e5be0adc",
   "metadata": {},
   "outputs": [
    {
     "data": {
      "text/plain": [
       "United States of America                                         216\n",
       "Brazil                                                           186\n",
       "India                                                            163\n",
       "Indonesia                                                        149\n",
       "Mexico                                                           143\n",
       "                                                                ... \n",
       "Ireland, United Kingdom of Great Britain and Northern Ireland      1\n",
       "Republic of Korea                                                  1\n",
       "Hungary                                                            1\n",
       "Germany, Czech Republic                                            1\n",
       "Belgium, France, Netherlands                                       1\n",
       "Name: Countries, Length: 252, dtype: int64"
      ]
     },
     "execution_count": 30,
     "metadata": {},
     "output_type": "execute_result"
    }
   ],
   "source": [
    "Fdata[\"Countries\"].value_counts()"
   ]
  },
  {
   "cell_type": "code",
   "execution_count": 47,
   "id": "b366859b",
   "metadata": {},
   "outputs": [
    {
     "ename": "SyntaxError",
     "evalue": "invalid syntax (<ipython-input-47-af0f1479f21e>, line 1)",
     "output_type": "error",
     "traceback": [
      "\u001b[1;36m  File \u001b[1;32m\"<ipython-input-47-af0f1479f21e>\"\u001b[1;36m, line \u001b[1;32m1\u001b[0m\n\u001b[1;33m    EAdata = Fdata[(Fdata.Countries == Kenya) | (Fdata.Countries == Ethiopia) | (Fdata.Countries == Tanzania) | (Fdata.Countries == Uganda) | (Fdata.Countries == Rwanda) | (Fdata.Countries == Burundi) | (Fdata.Countries == South Sudan) | (Fdata.Countries == Somalia)]\u001b[0m\n\u001b[1;37m                                                                                                                                                                                                                                     ^\u001b[0m\n\u001b[1;31mSyntaxError\u001b[0m\u001b[1;31m:\u001b[0m invalid syntax\n"
     ]
    }
   ],
   "source": [
    "EAdata = Fdata[(Fdata.Countries == Kenya) | (Fdata.Countries == Ethiopia) | (Fdata.Countries == Tanzania) | (Fdata.Countries == Uganda) | (Fdata.Countries == Rwanda) | (Fdata.Countries == Burundi) | (Fdata.Countries == South Sudan) | (Fdata.Countries == Somalia)]\n",
    "#Ethiopia, Tanzania, Uganda, Rwanda, Burundi, South Sudan and Somalia"
   ]
  },
  {
   "cell_type": "code",
   "execution_count": null,
   "id": "f212231a",
   "metadata": {},
   "outputs": [],
   "source": []
  },
  {
   "cell_type": "markdown",
   "id": "626c26b9",
   "metadata": {},
   "source": [
    "# Renaming Country Code of Angola"
   ]
  },
  {
   "cell_type": "code",
   "execution_count": null,
   "id": "693d34d6",
   "metadata": {},
   "outputs": [],
   "source": []
  }
 ],
 "metadata": {
  "kernelspec": {
   "display_name": "Python 3",
   "language": "python",
   "name": "python3"
  },
  "language_info": {
   "codemirror_mode": {
    "name": "ipython",
    "version": 3
   },
   "file_extension": ".py",
   "mimetype": "text/x-python",
   "name": "python",
   "nbconvert_exporter": "python",
   "pygments_lexer": "ipython3",
   "version": "3.8.8"
  }
 },
 "nbformat": 4,
 "nbformat_minor": 5
}
